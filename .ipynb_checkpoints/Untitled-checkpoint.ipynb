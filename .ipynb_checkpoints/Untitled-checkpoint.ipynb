{
 "cells": [
  {
   "cell_type": "code",
   "execution_count": 8,
   "id": "9c22618c-9d23-46a1-9bd8-0183111f40b8",
   "metadata": {},
   "outputs": [],
   "source": [
    "import os\n",
    "import re\n",
    "import numpy as np\n",
    "\n",
    "def find_imports_in_file(file_path):\n",
    "    with open(file_path, 'r', encoding='utf-8') as file:\n",
    "        content = file.read()\n",
    "    imports = re.findall(r'^\\s*(import\\s+\\S+|from\\s+\\S+\\s+import\\s+\\S+)', content, re.MULTILINE)\n",
    "    return imports\n",
    "\n",
    "def scan_directory_for_imports(directory):\n",
    "    imports_dict = {}\n",
    "    for root, _, files in os.walk(directory):\n",
    "        for file in files:\n",
    "            if file.endswith('.py'):\n",
    "                file_path = os.path.join(root, file)\n",
    "                imports = find_imports_in_file(file_path)\n",
    "                if imports:\n",
    "                    imports_dict[file_path] = imports\n",
    "    return imports_dict\n",
    "\n",
    "def write_imports_to_file(imports_dict, output_file):\n",
    "    with open(output_file, 'w', encoding='utf-8') as f:\n",
    "        for file_path, imports in imports_dict.items():\n",
    "            f.write(f'{file_path}:\\n')\n",
    "            for imp in imports:\n",
    "                f.write(f'  {imp}\\n')\n",
    "            f.write('\\n')"
   ]
  },
  {
   "cell_type": "code",
   "execution_count": 2,
   "id": "67b17d45-b93a-4439-99e5-d165f43ef2dc",
   "metadata": {},
   "outputs": [],
   "source": [
    "directory = \"de_hnn/\""
   ]
  },
  {
   "cell_type": "code",
   "execution_count": 3,
   "id": "f57b4a92-b7d0-4202-aa7d-249c5ef46e1f",
   "metadata": {},
   "outputs": [],
   "source": [
    "imports_dict = scan_directory_for_imports(directory)"
   ]
  },
  {
   "cell_type": "code",
   "execution_count": 5,
   "id": "32175c4f-3a74-413a-a3d5-3ed50620ff56",
   "metadata": {},
   "outputs": [],
   "source": [
    "package_set = []"
   ]
  },
  {
   "cell_type": "code",
   "execution_count": 6,
   "id": "55a63771-7057-4c89-8772-33cc39fa3bfd",
   "metadata": {},
   "outputs": [],
   "source": [
    "for file, import_lst in imports_dict.items():\n",
    "    package_set += import_lst"
   ]
  },
  {
   "cell_type": "code",
   "execution_count": 9,
   "id": "ea2d9df2-9d27-4abb-92a2-261882dd214a",
   "metadata": {},
   "outputs": [],
   "source": [
    "package_set = np.unique(package_set)"
   ]
  },
  {
   "cell_type": "code",
   "execution_count": 12,
   "id": "d9f2d575-991d-450c-9fa3-033844c37b9d",
   "metadata": {},
   "outputs": [],
   "source": [
    "all_pkgs = ' '.join(package_set)"
   ]
  },
  {
   "cell_type": "code",
   "execution_count": 14,
   "id": "5ab98328-fc62-4353-af73-a202986b504a",
   "metadata": {},
   "outputs": [],
   "source": [
    "with open('requirements.txt', 'r') as f:\n",
    "    all_lines = f.readlines()"
   ]
  },
  {
   "cell_type": "code",
   "execution_count": 27,
   "id": "560f6a3f-e3cd-45cc-ad56-bf364490faaa",
   "metadata": {},
   "outputs": [],
   "source": [
    "pkg_names = []\n",
    "new_lines = []\n",
    "\n",
    "for pkg_line in all_lines:\n",
    "    pkg_name = pkg_line.split('==')[0]\n",
    "    if pkg_name in all_pkgs:\n",
    "        new_lines.append(pkg_line)"
   ]
  },
  {
   "cell_type": "code",
   "execution_count": 29,
   "id": "96be8e9b-290a-44f3-9c7a-2b1fc35ccc8c",
   "metadata": {},
   "outputs": [],
   "source": [
    "with open('requirements.txt', 'w') as f:\n",
    "    for line in new_lines:\n",
    "        f.write(line)"
   ]
  }
 ],
 "metadata": {
  "kernelspec": {
   "display_name": "Python 3 (ipykernel)",
   "language": "python",
   "name": "python3"
  },
  "language_info": {
   "codemirror_mode": {
    "name": "ipython",
    "version": 3
   },
   "file_extension": ".py",
   "mimetype": "text/x-python",
   "name": "python",
   "nbconvert_exporter": "python",
   "pygments_lexer": "ipython3",
   "version": "3.8.8"
  }
 },
 "nbformat": 4,
 "nbformat_minor": 5
}
