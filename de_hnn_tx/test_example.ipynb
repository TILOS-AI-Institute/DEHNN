{
 "cells": [
  {
   "cell_type": "code",
   "execution_count": null,
   "id": "8ee77b90-e385-46e5-991b-720ae2fd5196",
   "metadata": {},
   "outputs": [],
   "source": [
    "import os\n",
    "import numpy as np\n",
    "import pickle\n",
    "import torch\n",
    "import torch.nn\n",
    "from torch_geometric.data import Dataset\n",
    "from torch_geometric.data import Data, HeteroData\n",
    "from torch_geometric.loader import NeighborLoader\n",
    "from torch_geometric.nn.conv.gcn_conv import gcn_norm\n",
    "from utils import *\n",
    "import torch.nn as nn\n",
    "import torch.optim as optim\n",
    "import wandb\n",
    "from tqdm import tqdm\n",
    "\n",
    "import sys\n",
    "sys.path.insert(1, 'data/')\n",
    "\n",
    "from pyg_dataset import NetlistDataset\n",
    "\n",
    "sys.path.append(\"models/layers/\")\n",
    "from models.model import GNN_node"
   ]
  },
  {
   "cell_type": "code",
   "execution_count": null,
   "id": "c10bcb26-137d-4507-9bf5-2d66bad2cb96",
   "metadata": {},
   "outputs": [],
   "source": [
    "# You need to put all the design directories in the \"data/cross_design_data/\"\n",
    "\n",
    "dataset = NetlistDataset(data_dir=\"data/cross_design_data/\", load_pe = True, pl = True, processed = False)"
   ]
  },
  {
   "cell_type": "code",
   "execution_count": null,
   "id": "29baa534-9edf-4a97-9491-0e91c2b426fd",
   "metadata": {},
   "outputs": [],
   "source": [
    "h_dataset = []\n",
    "for data in tqdm(dataset):\n",
    "    num_instances = data.node_congestion.shape[0]\n",
    "    data.num_instances = num_instances\n",
    "    data.edge_index_source_to_net[1] = data.edge_index_source_to_net[1] - num_instances\n",
    "    data.edge_index_sink_to_net[1] = data.edge_index_sink_to_net[1] - num_instances\n",
    "\n",
    "    h_data = HeteroData()\n",
    "    h_data['node'].x = data.node_features\n",
    "    h_data['node'].y = data.node_congestion\n",
    "    \n",
    "    h_data['net'].x = data.net_features\n",
    "    h_data['net'].y = data.net_hpwl\n",
    "    \n",
    "    h_data['node', 'as_a_sink_of', 'net'].edge_index, h_data['node', 'as_a_sink_of', 'net'].edge_weight = gcn_norm(data.edge_index_sink_to_net, add_self_loops=False)\n",
    "    h_data['node', 'as_a_source_of', 'net'].edge_index = data.edge_index_source_to_net\n",
    "\n",
    "    h_data.batch = data.batch\n",
    "    h_data.num_vn = data.num_vn\n",
    "    h_data.num_instances = num_instances\n",
    "    h_dataset.append(h_data)"
   ]
  },
  {
   "cell_type": "code",
   "execution_count": null,
   "id": "a92152c6-a722-4cc9-9095-c2ceb37b02a1",
   "metadata": {},
   "outputs": [],
   "source": [
    "device = \"cuda\"\n",
    "#model = GNN_node(4, 32, 8, 1, node_dim = data.node_features.shape[1], net_dim = data.net_features.shape[1], vn=True).to(device)\n",
    "model = torch.load(\"best_dehnn_model.pt\")"
   ]
  },
  {
   "cell_type": "code",
   "execution_count": null,
   "id": "97a68f09-8c60-49d8-893f-d119fb0b2b09",
   "metadata": {},
   "outputs": [],
   "source": [
    "total_test_acc = 0\n",
    "total_test_net_l1 = 0\n",
    "test_acc, test_net_l1 = 0, 0\n",
    "all_test_idx = 0\n",
    "for data in tqdm(h_dataset):\n",
    "    try:\n",
    "        node_representation, net_representation = model(data, device)\n",
    "        test_acc = compute_accuracy(node_representation, data['node'].y.to(device))\n",
    "        test_net_l1 = torch.nn.functional.l1_loss(net_representation.flatten(), data['net'].y.to(device)).item()\n",
    "    except:\n",
    "        print(\"OOM\")\n",
    "        continue\n",
    "    \n",
    "    total_test_acc += test_acc\n",
    "    total_test_net_l1 += test_net_l1\n",
    "    all_test_idx += 1"
   ]
  },
  {
   "cell_type": "code",
   "execution_count": null,
   "id": "5a4679aa-517b-48ed-8914-f50daf15e7d6",
   "metadata": {},
   "outputs": [],
   "source": [
    "print(total_test_acc/all_test_idx, total_test_net_l1/all_test_idx)"
   ]
  }
 ],
 "metadata": {
  "kernelspec": {
   "display_name": "Python 3 (ipykernel)",
   "language": "python",
   "name": "python3"
  },
  "language_info": {
   "codemirror_mode": {
    "name": "ipython",
    "version": 3
   },
   "file_extension": ".py",
   "mimetype": "text/x-python",
   "name": "python",
   "nbconvert_exporter": "python",
   "pygments_lexer": "ipython3",
   "version": "3.8.8"
  }
 },
 "nbformat": 4,
 "nbformat_minor": 5
}
