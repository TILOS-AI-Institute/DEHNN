{
 "cells": [
  {
   "cell_type": "code",
   "execution_count": 2,
   "id": "a5a12f50-2eea-4f2a-ae9a-d34c00163c2b",
   "metadata": {},
   "outputs": [],
   "source": [
    "import os\n",
    "import shutil\n",
    "import numpy as np\n",
    "import pickle\n",
    "import torch\n",
    "import torch.nn\n",
    "from torch_geometric.data import Dataset\n",
    "from torch_geometric.data import Data, HeteroData\n",
    "from sklearn.model_selection import train_test_split\n",
    "from tqdm import tqdm\n",
    "\n",
    "from torch_geometric.nn.conv.gcn_conv import gcn_norm"
   ]
  },
  {
   "cell_type": "code",
   "execution_count": 3,
   "id": "e5ffaadd-2194-471b-8b27-08b5362175d3",
   "metadata": {},
   "outputs": [],
   "source": [
    "from collections import defaultdict\n",
    "from utils import *"
   ]
  },
  {
   "cell_type": "code",
   "execution_count": 4,
   "id": "841277e9-1b86-4e34-af35-7cbfa45bebb3",
   "metadata": {},
   "outputs": [],
   "source": [
    "%load_ext autoreload\n",
    "%autoreload 2"
   ]
  },
  {
   "cell_type": "code",
   "execution_count": 4,
   "id": "c7727a25-f70c-45d0-80b4-a03dea9d96af",
   "metadata": {},
   "outputs": [],
   "source": [
    "data_dir = \"all_designs_netlist_data/\"\n",
    "design_fp = \"Design_100_netlist_data/\""
   ]
  },
  {
   "cell_type": "code",
   "execution_count": 12,
   "id": "99c765db-d7d7-482e-8bd3-a9e3f0779df8",
   "metadata": {},
   "outputs": [],
   "source": [
    "with open(os.path.join(data_dir, design_fp, 'random.pkl'), 'rb') as f:\n",
    "    random_dict = pickle.load(f)\n",
    "    \n",
    "    node_ramdom_features = random_dict['node_random']\n",
    "    net_random_features = random_dict['net_random']"
   ]
  },
  {
   "cell_type": "code",
   "execution_count": 5,
   "id": "4dfa7321-1bb8-4a81-9cdb-d94e11582255",
   "metadata": {},
   "outputs": [],
   "source": [
    "from pyg_dataset import NetlistDataset"
   ]
  },
  {
   "cell_type": "code",
   "execution_count": 35,
   "id": "f7b6b0b6-1cb6-4a48-8399-49f8ba8065f0",
   "metadata": {
    "scrolled": true
   },
   "outputs": [
    {
     "name": "stderr",
     "output_type": "stream",
     "text": [
      "100%|█████████████████████████████████████████████████████████████████████████████████████████████████████████████████████████████████████████████████████████████████████████| 3/3 [00:01<00:00,  1.87it/s]\n"
     ]
    }
   ],
   "source": [
    "dataset = NetlistDataset(data_dir=\"all_designs_netlist_data\", load_pe = True, pl = True, processed = True, load_indices=[0, 1, 2])"
   ]
  },
  {
   "cell_type": "code",
   "execution_count": 38,
   "id": "529f5dbc-58dd-474e-afe1-a12820bb60dc",
   "metadata": {},
   "outputs": [],
   "source": [
    "all_design_nums = []\n",
    "\n",
    "for design_fp in os.listdir(\"target_data\"):\n",
    "    design_num_to_match = design_fp.split(\"_\")[1]\n",
    "    all_design_nums.append(design_num_to_match)\n",
    "\n",
    "all_design_nums = np.unique(all_design_nums)"
   ]
  },
  {
   "cell_type": "code",
   "execution_count": 40,
   "id": "a8912610-f3a6-4eda-b442-f229cfe9649e",
   "metadata": {},
   "outputs": [],
   "source": [
    "np.save(\"all_target_design_nums.npy\", all_design_nums)"
   ]
  },
  {
   "cell_type": "code",
   "execution_count": 42,
   "id": "554424a5-9921-47c6-903b-be860fe4a0b8",
   "metadata": {},
   "outputs": [],
   "source": [
    "from collections import defaultdict"
   ]
  },
  {
   "cell_type": "code",
   "execution_count": 52,
   "id": "211df0bb-3898-4134-990e-3d465f95ddb1",
   "metadata": {},
   "outputs": [],
   "source": [
    "design_num_dict = defaultdict(list)\n",
    "design_design_num_dict = defaultdict(int)"
   ]
  },
  {
   "cell_type": "code",
   "execution_count": 53,
   "id": "4aefa909-d78d-4394-a04d-7ce3437bc811",
   "metadata": {},
   "outputs": [],
   "source": [
    "target_data_dir = \"target_data/\"\n",
    "\n",
    "for fp in os.listdir(\"all_designs_netlist_data/\"):\n",
    "    design_num = fp.split(\"_\")[1]\n",
    "    \n",
    "    with open(\"all_designs_netlist_data/\" + fp + \"/node_size_x.pkl\", 'rb') as f:\n",
    "        node_size_x = pickle.load(f)\n",
    "        \n",
    "    design_design_num_dict[design_num] = node_size_x.shape[0]\n",
    "\n",
    "    for design_fp in os.listdir(target_data_dir):\n",
    "        design_num_to_match = design_fp.split(\"_\")[1]\n",
    "        if design_num == design_num_to_match:\n",
    "            with open(os.path.join(target_data_dir, design_fp, 'node_loc_x.pkl'), 'rb') as f:\n",
    "                node_loc_x = pickle.load(f)\n",
    "    \n",
    "            design_num_dict[design_num].append(node_loc_x.shape[0])"
   ]
  },
  {
   "cell_type": "code",
   "execution_count": 69,
   "id": "a67caabc-8dd8-4f3c-9e3a-993b1e96b0b4",
   "metadata": {},
   "outputs": [
    {
     "name": "stdout",
     "output_type": "stream",
     "text": [
      "195 True\n",
      "112 True\n",
      "127 True\n",
      "145 True\n",
      "130 True\n",
      "85 True\n",
      "207 True\n",
      "196 True\n",
      "46 True\n",
      "240 True\n",
      "222 True\n",
      "55 True\n",
      "82 True\n",
      "180 True\n",
      "161 True\n",
      "52 True\n",
      "162 True\n",
      "37 True\n",
      "21 True\n",
      "67 True\n",
      "237 True\n",
      "115 True\n",
      "176 True\n",
      "10 True\n",
      "221 True\n",
      "7 True\n",
      "100 True\n",
      "147 True\n"
     ]
    }
   ],
   "source": [
    "for key, value in design_design_num_dict.items():\n",
    "    if len(design_num_dict[key]) == 0:\n",
    "        continue\n",
    "    print(key, design_design_num_dict[key] == design_num_dict[key][0])"
   ]
  },
  {
   "cell_type": "code",
   "execution_count": 37,
   "id": "ea656b34-586e-455a-acb1-41abfab7f363",
   "metadata": {},
   "outputs": [
    {
     "name": "stderr",
     "output_type": "stream",
     "text": [
      "100%|█████████████████████████████████████████████████████████████████████████████████████████████████████████████████████████████████████████████████████████████████████████| 3/3 [03:22<00:00, 67.36s/it]\n"
     ]
    }
   ],
   "source": [
    "h_dataset = []\n",
    "for data in tqdm(dataset):    \n",
    "    out_degrees = data.net_features[:, 1]\n",
    "    mask = (out_degrees < 3000)\n",
    "    mask_edges = mask[data.edge_index_source_to_net[1]] \n",
    "    filtered_edge_index = data.edge_index_source_to_net[:, mask_edges]\n",
    "    data.edge_index_source_to_net = filtered_edge_index\n",
    "\n",
    "    mask_edges = mask[data.edge_index_sink_to_net[1]] \n",
    "    filtered_edge_index = data.edge_index_sink_to_net[:, mask_edges]\n",
    "    data.edge_index_sink_to_net = filtered_edge_index\n",
    "    \n",
    "    h_data = HeteroData()\n",
    "    h_data['node'].x = data.node_features\n",
    "    h_data['net'].x = data.net_features\n",
    "    h_data['node', 'as_a_sink_of', 'net'].edge_index, h_data['node', 'as_a_sink_of', 'net'].edge_weight = gcn_norm(data.edge_index_sink_to_net, add_self_loops=False)\n",
    "    h_data['node', 'as_a_source_of', 'net'].edge_index = data.edge_index_source_to_net\n",
    "    _, h_data['net', 'sink_to', 'node'].edge_weight = gcn_norm(torch.flip(h_data['node', 'as_a_sink_of', 'net'].edge_index, dims=[0]), add_self_loops=False)\n",
    "    \n",
    "    design_num = data['design_name'].split(\"_\")[1]\n",
    "    variant_data_lst = []\n",
    "    for design_fp in os.listdir(\"target_data\"):\n",
    "        design_num_to_match = design_fp.split(\"_\")[1]\n",
    "        if design_num == design_num_to_match:\n",
    "            with open(os.path.join(\"target_data\", design_fp, 'node_loc_x.pkl'), 'rb') as f:\n",
    "                node_loc_x = pickle.load(f)\n",
    "\n",
    "            with open(os.path.join(\"target_data\", design_fp, 'node_loc_y.pkl'), 'rb') as f:\n",
    "                node_loc_y = pickle.load(f)\n",
    "\n",
    "            with open(os.path.join(\"target_data\", design_fp, 'target_net_hpwl.pkl'), 'rb') as f:\n",
    "                net_hpwl = pickle.load(f)\n",
    "            \n",
    "            with open(os.path.join(\"target_data\", design_fp, 'target_node_utilization.pkl'), 'rb') as f:\n",
    "                node_congestion = pickle.load(f)\n",
    "\n",
    "            pos_lst = torch.tensor(np.vstack([node_loc_x, node_loc_y]).T)\n",
    "            node_congestion = torch.tensor(node_congestion).float()\n",
    "            net_hpwl = torch.tensor(net_hpwl).float()\n",
    "\n",
    "            node_pos_lst = pos_lst[data.edge_index_sink_to_net[0]]\n",
    "            net_pos_lst = pos_lst[data.edge_index_source_to_net[0]][data.edge_index_sink_to_net[1]]\n",
    "            edge_attr = torch.sum(torch.abs(node_pos_lst - net_pos_lst), dim=1)\n",
    "\n",
    "            file_name = os.path.join(\"target_data\", design_fp, 'pl_part_dict.pkl')\n",
    "            f = open(file_name, 'rb')\n",
    "            part_dict = pickle.load(f)\n",
    "            f.close()\n",
    "            batch = [part_dict[idx] for idx in range(node_congestion.shape[0])]\n",
    "            num_vn = len(np.unique(batch))\n",
    "            batch = torch.tensor(batch).long()\n",
    "            variant_data_lst.append((pos_lst, edge_attr, node_congestion, net_hpwl, batch, num_vn))\n",
    "\n",
    "    h_data['variant_data_lst'] = variant_data_lst\n",
    "    h_dataset.append(h_data)"
   ]
  },
  {
   "cell_type": "code",
   "execution_count": 79,
   "id": "ca1afc46-4c10-4836-a891-9fedb6220e28",
   "metadata": {},
   "outputs": [
    {
     "name": "stderr",
     "output_type": "stream",
     "text": [
      "100%|█████████████████████████████████████████████████████████████████████████████████████████████████████████████████████████████████████████████████████████████████████████| 1/1 [00:11<00:00, 11.85s/it]\n"
     ]
    }
   ],
   "source": [
    "all_files = np.array(os.listdir(data_dir))\n",
    "        \n",
    "if load_indices is not None:\n",
    "    load_indices = np.array(load_indices)\n",
    "    all_files = all_files[load_indices]\n",
    "    \n",
    "for design_fp in tqdm(all_files):\n",
    "    data_load_fp = os.path.join(data_dir, design_fp, 'pyg_data.pkl')\n",
    "    if os.path.exists(data_load_fp):\n",
    "        data = torch.load(data_load_fp)\n",
    "    else:\n",
    "        with open(os.path.join(data_dir, design_fp, 'net2sink_nodes.pkl'), 'rb') as f:\n",
    "            net2sink = pickle.load(f)\n",
    "\n",
    "        with open(os.path.join(data_dir, design_fp, 'net2source_node.pkl'), 'rb') as f:\n",
    "            net2source = pickle.load(f)\n",
    "\n",
    "        with open(os.path.join(data_dir, design_fp, 'node_type_id.pkl'), 'rb') as f:\n",
    "            node_type = pickle.load(f)\n",
    "        \n",
    "        with open(os.path.join(data_dir, design_fp, 'node_loc_x.pkl'), 'rb') as f:\n",
    "            node_loc_x = pickle.load(f)\n",
    "        \n",
    "        with open(os.path.join(data_dir, design_fp, 'node_loc_y.pkl'), 'rb') as f:\n",
    "            node_loc_y = pickle.load(f)\n",
    "        \n",
    "        with open(os.path.join(data_dir, design_fp, 'node_size_x.pkl'), 'rb') as f:\n",
    "            node_size_x = pickle.load(f)\n",
    "        \n",
    "        with open(os.path.join(data_dir, design_fp, 'node_size_y.pkl'), 'rb') as f:\n",
    "            node_size_y = pickle.load(f)\n",
    "\n",
    "        with open(os.path.join(data_dir, design_fp, 'target_net_hpwl.pkl'), 'rb') as f:\n",
    "            net_hpwl = pickle.load(f)\n",
    "        \n",
    "        with open(os.path.join(data_dir, design_fp, 'target_node_congestion_level.pkl'), 'rb') as f:\n",
    "            node_congestion = pickle.load(f)\n",
    "\n",
    "        with open(os.path.join(data_dir, design_fp, 'eigen.10.pkl'), 'rb') as f:\n",
    "            eig_dict = pickle.load(f)\n",
    "            eig_vec = eig_dict['evects']\n",
    "\n",
    "        num_instances = len(node_type)\n",
    "        assert len(node_loc_x) == num_instances\n",
    "        assert len(node_loc_y) == num_instances\n",
    "        assert len(node_size_x) == num_instances\n",
    "        assert len(node_size_y) == num_instances\n",
    "        assert len(eig_vec) == num_instances\n",
    "        assert len(node_congestion) == num_instances\n",
    "\n",
    "        edge_index_source_sink = []\n",
    "        #edge_index_sink_source = []\n",
    "        edge_index_sink_to_net = []\n",
    "        edge_index_source_to_net = []\n",
    "        \n",
    "        for net_idx in range(len(net2sink)):\n",
    "            sink_idx_lst = net2sink[net_idx]\n",
    "            source_idx = net2source[net_idx]\n",
    "        \n",
    "            for sink_idx in sink_idx_lst:\n",
    "                edge_index_sink_to_net.append([sink_idx, net_idx])\n",
    "                edge_index_source_sink.append([source_idx, sink_idx])\n",
    "                #edge_index_sink_source.append([sink_idx, source_idx])\n",
    "        \n",
    "            edge_index_source_to_net.append([source_idx, net_idx])\n",
    "            \n",
    "\n",
    "        edge_index_source_sink = torch.tensor(edge_index_source_sink).T.long()\n",
    "        #edge_index_sink_source = torch.tensor(edge_index_sink_source).T.long()\n",
    "        edge_index_source_to_net = torch.tensor(edge_index_source_to_net).T.long()\n",
    "        edge_index_sink_to_net = torch.tensor(edge_index_sink_to_net).T.long()\n",
    "        out_degrees = compute_degrees(edge_index_source_sink, num_instances)\n",
    "        in_degrees = compute_degrees(torch.flip(edge_index_source_sink, dims=[0]), num_instances)\n",
    "        source2net_inst_degrees = compute_degrees(edge_index_source_to_net, num_instances)\n",
    "        #sink2net_inst_degrees = compute_degrees(edge_index_sink_to_net, num_instances)\n",
    "        source2net_net_degrees = compute_degrees(torch.flip(edge_index_source_to_net, dims=[0]), len(net_hpwl))\n",
    "        sink2net_net_degrees = compute_degrees(torch.flip(edge_index_sink_to_net, dims=[0]), len(net_hpwl))\n",
    "                \n",
    "        if pl:\n",
    "            node_features = np.vstack([node_type, in_degrees, out_degrees, source2net_inst_degrees, node_size_x, node_size_y, node_loc_x, node_loc_y]).T  \n",
    "            file_name = os.path.join(data_dir, design_fp, 'pl_part_dict.pkl')\n",
    "            f = open(file_name, 'rb')\n",
    "            part_dict = pickle.load(f)\n",
    "            f.close()\n",
    "            batch = [part_dict[idx] for idx in range(node_features.shape[0])]\n",
    "            num_vn = len(np.unique(batch))\n",
    "            batch = torch.tensor(batch).long()\n",
    "\n",
    "        else:\n",
    "            node_features = np.vstack([node_type, in_degrees, out_degrees, source2net_inst_degrees, node_size_x, node_size_y]).T\n",
    "            batch = None\n",
    "            num_vn = 0\n",
    "\n",
    "        if load_pe:\n",
    "            node_features = np.concatenate([node_features, eig_vec], axis=1)\n",
    "            \n",
    "        if density:\n",
    "            node_route_utilization = np.zeros(num_instances)\n",
    "            node_pin_utilization = np.zeros(num_instances)\n",
    "            with open(os.path.join(data_dir, design_fp, \"pin_utilization_map.pkl\"), 'rb') as f:\n",
    "                pin_utilization_map = pickle.load(f)\n",
    "            with open(os.path.join(data_dir, design_fp, \"route_utilization_map.pkl\"), 'rb') as f:\n",
    "                route_utilization_map = pickle.load(f)\n",
    "\n",
    "            for node_idx in range(num_instances):\n",
    "                node_pin_utilization[node_idx] = pin_utilization_map[int(node_loc_x[node_idx]), int(node_loc_y[node_idx])]\n",
    "                node_route_utilization[node_idx] = route_utilization_map[int(node_loc_x[node_idx]), int(node_loc_y[node_idx])]\n",
    "\n",
    "            node_pin_utilization = node_pin_utilization.reshape(num_instances, 1)\n",
    "            node_route_utilization = node_route_utilization.reshape(num_instances, 1)\n",
    "            node_features = np.concatenate([node_features, node_pin_utilization, node_route_utilization], axis=1)\n",
    "                \n",
    "        node_features = torch.tensor(node_features).float()\n",
    "        net_features = torch.tensor(np.vstack([source2net_net_degrees, sink2net_net_degrees]).T).float()"
   ]
  },
  {
   "cell_type": "code",
   "execution_count": 10,
   "id": "7157d3d8-8123-42e2-88a0-3cc3314ccec8",
   "metadata": {},
   "outputs": [],
   "source": [
    "data_dir = \"all_designs_netlist_data/\""
   ]
  },
  {
   "cell_type": "code",
   "execution_count": 220,
   "id": "37bfcaa3-d16a-4ecd-98d5-20dab05e1070",
   "metadata": {
    "collapsed": true,
    "jupyter": {
     "outputs_hidden": true
    },
    "scrolled": true
   },
   "outputs": [
    {
     "name": "stderr",
     "output_type": "stream",
     "text": [
      " 28%|████████████████████████████████████████████████▍                                                                                                                            | 42/150 [00:00<00:01, 93.75it/s]\n"
     ]
    },
    {
     "ename": "AttributeError",
     "evalue": "'HeteroData' has no attribute 'edge_index_sink_to_net'",
     "output_type": "error",
     "traceback": [
      "\u001b[0;31m---------------------------------------------------------------------------\u001b[0m",
      "\u001b[0;31mAttributeError\u001b[0m                            Traceback (most recent call last)",
      "Cell \u001b[0;32mIn[220], line 46\u001b[0m\n\u001b[1;32m     42\u001b[0m num_instances \u001b[38;5;241m=\u001b[39m node_congestion\u001b[38;5;241m.\u001b[39mshape[\u001b[38;5;241m0\u001b[39m]\n\u001b[1;32m     44\u001b[0m pos_lst \u001b[38;5;241m=\u001b[39m torch\u001b[38;5;241m.\u001b[39mtensor(np\u001b[38;5;241m.\u001b[39mvstack([node_loc_x, node_loc_y])\u001b[38;5;241m.\u001b[39mT)\n\u001b[0;32m---> 46\u001b[0m node_pos_lst \u001b[38;5;241m=\u001b[39m pos_lst[\u001b[43mdata\u001b[49m\u001b[38;5;241;43m.\u001b[39;49m\u001b[43medge_index_sink_to_net\u001b[49m[\u001b[38;5;241m0\u001b[39m]]\n\u001b[1;32m     47\u001b[0m net_pos_lst \u001b[38;5;241m=\u001b[39m pos_lst[data\u001b[38;5;241m.\u001b[39medge_index_source_to_net[\u001b[38;5;241m0\u001b[39m]][data\u001b[38;5;241m.\u001b[39medge_index_sink_to_net[\u001b[38;5;241m1\u001b[39m]]\n\u001b[1;32m     49\u001b[0m out_degrees \u001b[38;5;241m=\u001b[39m data\u001b[38;5;241m.\u001b[39mnet_features[:, \u001b[38;5;241m1\u001b[39m]\n",
      "File \u001b[0;32m~/anaconda3/lib/python3.8/site-packages/torch_geometric/data/hetero_data.py:159\u001b[0m, in \u001b[0;36mHeteroData.__getattr__\u001b[0;34m(self, key)\u001b[0m\n\u001b[1;32m    157\u001b[0m \u001b[38;5;28;01melif\u001b[39;00m \u001b[38;5;28mbool\u001b[39m(re\u001b[38;5;241m.\u001b[39msearch(\u001b[38;5;124m'\u001b[39m\u001b[38;5;124m_dict$\u001b[39m\u001b[38;5;124m'\u001b[39m, key)):\n\u001b[1;32m    158\u001b[0m     \u001b[38;5;28;01mreturn\u001b[39;00m \u001b[38;5;28mself\u001b[39m\u001b[38;5;241m.\u001b[39mcollect(key[:\u001b[38;5;241m-\u001b[39m\u001b[38;5;241m5\u001b[39m])\n\u001b[0;32m--> 159\u001b[0m \u001b[38;5;28;01mraise\u001b[39;00m \u001b[38;5;167;01mAttributeError\u001b[39;00m(\u001b[38;5;124mf\u001b[39m\u001b[38;5;124m\"\u001b[39m\u001b[38;5;124m'\u001b[39m\u001b[38;5;132;01m{\u001b[39;00m\u001b[38;5;28mself\u001b[39m\u001b[38;5;241m.\u001b[39m\u001b[38;5;18m__class__\u001b[39m\u001b[38;5;241m.\u001b[39m\u001b[38;5;18m__name__\u001b[39m\u001b[38;5;132;01m}\u001b[39;00m\u001b[38;5;124m'\u001b[39m\u001b[38;5;124m has no \u001b[39m\u001b[38;5;124m\"\u001b[39m\n\u001b[1;32m    160\u001b[0m                      \u001b[38;5;124mf\u001b[39m\u001b[38;5;124m\"\u001b[39m\u001b[38;5;124mattribute \u001b[39m\u001b[38;5;124m'\u001b[39m\u001b[38;5;132;01m{\u001b[39;00mkey\u001b[38;5;132;01m}\u001b[39;00m\u001b[38;5;124m'\u001b[39m\u001b[38;5;124m\"\u001b[39m)\n",
      "\u001b[0;31mAttributeError\u001b[0m: 'HeteroData' has no attribute 'edge_index_sink_to_net'"
     ]
    }
   ],
   "source": [
    "all_files = np.array(os.listdir(data_dir))\n",
    "\n",
    "h_dataset = []\n",
    "    \n",
    "for design_fp in tqdm(all_files):\n",
    "    with open(os.path.join(data_dir, design_fp, 'node_loc_x.pkl'), 'rb') as f:\n",
    "        node_loc_x = pickle.load(f)\n",
    "    with open(os.path.join(data_dir, design_fp, 'node_loc_y.pkl'), 'rb') as f:\n",
    "        node_loc_y = pickle.load(f)\n",
    "\n",
    "    if node_loc_x.shape[0] != 633162:\n",
    "        continue\n",
    "        \n",
    "    with open(os.path.join(data_dir, design_fp, 'target_net_hpwl.pkl'), 'rb') as f:\n",
    "        net_hpwl = pickle.load(f)\n",
    "    with open(os.path.join(data_dir, design_fp, 'target_node_congestion_level.pkl'), 'rb') as f:\n",
    "        node_congestion = pickle.load(f)\n",
    "\n",
    "    if np.mean(node_congestion) == 0:\n",
    "        continue\n",
    "\n",
    "    file_name = os.path.join(data_dir, design_fp, 'pl_part_dict.pkl')\n",
    "    f = open(file_name, 'rb')\n",
    "    part_dict = pickle.load(f)\n",
    "    f.close()\n",
    "    batch = [part_dict[idx] for idx in range(node_congestion.shape[0])]\n",
    "    num_vn = len(np.unique(batch))\n",
    "    batch = torch.tensor(batch).long()\n",
    "\n",
    "    file_name = os.path.join(data_dir, design_fp, 'top_pl_part_dict.pkl')\n",
    "    f = open(file_name, 'rb')\n",
    "    top_part_dict = pickle.load(f)\n",
    "    f.close()\n",
    "    top_batch = [top_part_dict[idx] for idx in range(node_congestion.shape[0])]\n",
    "    num_top_vn = len(np.unique(top_batch))\n",
    "    top_batch = torch.tensor(top_batch).long()\n",
    "    \n",
    "    node_congestion = torch.tensor(node_congestion)\n",
    "    net_hpwl = torch.tensor(net_hpwl).float()\n",
    "    \n",
    "    node_congestion = (node_congestion >= 3).long()\n",
    "    num_instances = node_congestion.shape[0]\n",
    "    \n",
    "    pos_lst = torch.tensor(np.vstack([node_loc_x, node_loc_y]).T)\n",
    "    \n",
    "    node_pos_lst = pos_lst[data.edge_index_sink_to_net[0]]\n",
    "    net_pos_lst = pos_lst[data.edge_index_source_to_net[0]][data.edge_index_sink_to_net[1]]\n",
    "    \n",
    "    out_degrees = data.net_features[:, 1]\n",
    "    mask = (out_degrees < 3000)\n",
    "    mask_edges = mask[data.edge_index_source_to_net[1]] \n",
    "    filtered_edge_index = data.edge_index_source_to_net[:, mask_edges]\n",
    "    data.edge_index_source_to_net = filtered_edge_index\n",
    "    \n",
    "    h_data = HeteroData()\n",
    "    h_data['node'].x = data.node_features\n",
    "    h_data['net'].x = data.net_features\n",
    "    \n",
    "    h_data['node', 'as_a_sink_of', 'net'].edge_index, h_data['node', 'as_a_sink_of', 'net'].edge_weight = gcn_norm(data.edge_index_sink_to_net, add_self_loops=False)\n",
    "    h_data['node', 'as_a_source_of', 'net'].edge_index = data.edge_index_source_to_net\n",
    "    h_data['node', 'as_a_sink_of', 'net'].edge_attr = torch.sum(torch.abs(node_pos_lst - net_pos_lst), dim=1)[mask_edges]\n",
    "    \n",
    "    h_data.batch = batch\n",
    "    h_data.num_vn = num_vn\n",
    "    h_data.num_instances = num_instances\n",
    "    \n",
    "    h_data['node', 'as_a_sink_of', 'net'].edge_index, h_data['node', 'as_a_sink_of', 'net'].edge_weight = gcn_norm(data.edge_index_sink_to_net, add_self_loops=False)\n",
    "    h_data['node', 'as_a_source_of', 'net'].edge_index = data.edge_index_source_to_net\n",
    "    _, h_data['net', 'sink_to', 'node'].edge_weight = gcn_norm(torch.flip(h_data['node', 'as_a_sink_of', 'net'].edge_index, dims=[0]), add_self_loops=False)\n",
    "\n",
    "    h_data.pos = pos_lst\n",
    "    h_data.num_instances = num_instances\n",
    "    h_dataset.append(h_data)"
   ]
  },
  {
   "cell_type": "code",
   "execution_count": 120,
   "id": "b7c7a954-ee95-4c94-aab6-7fa4e243aa89",
   "metadata": {},
   "outputs": [],
   "source": [
    "design_num = data.design_name.split(\"_\")[1]"
   ]
  },
  {
   "cell_type": "code",
   "execution_count": 121,
   "id": "bfe09146-575c-4ff6-98b2-a72c4c9e37e6",
   "metadata": {},
   "outputs": [],
   "source": [
    "torch.save(new_dataset, f\"../{design_num}_dataset.pt\")"
   ]
  },
  {
   "cell_type": "code",
   "execution_count": 18,
   "id": "22bc79e3-6406-421a-a84f-46ac26cb0d95",
   "metadata": {},
   "outputs": [],
   "source": [
    "#if load_pe:\n",
    "node_features = np.concatenate([node_features, eig_vec], axis=1)\n",
    "        \n",
    "node_features = torch.tensor(node_features).float()\n",
    "node_features = torch.concat([node_features, node_ramdom_features], dim=1)\n",
    "net_features = torch.tensor(np.vstack([source2net_net_degrees, sink2net_net_degrees]).T).float()\n",
    "net_features = torch.concat([net_features, net_random_features], dim=1)\n",
    "    \n",
    "data = Data(\n",
    "    node_features = node_features, \n",
    "    net_features = net_features, \n",
    "    edge_index_source_sink = edge_index_source_sink,\n",
    "    edge_index_sink_to_net = edge_index_sink_to_net, \n",
    "    edge_index_source_to_net = edge_index_source_to_net, \n",
    "    num_vn = num_vn\n",
    ")"
   ]
  },
  {
   "cell_type": "code",
   "execution_count": 91,
   "id": "acbf78ae-a8ab-485a-8f36-2eb937702cbe",
   "metadata": {},
   "outputs": [
    {
     "data": {
      "text/plain": [
       "torch.Size([633162, 19])"
      ]
     },
     "execution_count": 91,
     "metadata": {},
     "output_type": "execute_result"
    }
   ],
   "source": [
    "h_data['node'].x[:, :-2].shape"
   ]
  },
  {
   "cell_type": "code",
   "execution_count": 65,
   "id": "bd23abf1-7f9d-4570-83ef-3b35651ad107",
   "metadata": {},
   "outputs": [
    {
     "data": {
      "text/plain": [
       "tensor([1.7800e+02, 1.0355e-01, 7.3000e+01,  ..., 9.7500e+00, 1.0750e+01,\n",
       "        2.3750e+01])"
      ]
     },
     "execution_count": 65,
     "metadata": {},
     "output_type": "execute_result"
    }
   ],
   "source": [
    "h_dataset[0]['net'].y"
   ]
  },
  {
   "cell_type": "code",
   "execution_count": 127,
   "id": "b22b2d95-7e64-4044-98f8-33b8883b4eeb",
   "metadata": {},
   "outputs": [
    {
     "name": "stderr",
     "output_type": "stream",
     "text": [
      "100%|█████████████████████████████████████| 470/470 [00:00<00:00, 641915.62it/s]\n"
     ]
    }
   ],
   "source": [
    "data_dir = \"cross_design_data\"\n",
    "all_files = np.array(os.listdir(data_dir))\n",
    "load_indices = []\n",
    "idx = 0\n",
    "for design_fp in tqdm(all_files):\n",
    "    if design_fp.split(\"_\")[1] == \"107\":\n",
    "        load_indices.append(idx)\n",
    "    idx += 1"
   ]
  },
  {
   "cell_type": "code",
   "execution_count": 95,
   "id": "88053696-7ab9-4b1d-ab9b-e2baedd8b585",
   "metadata": {},
   "outputs": [],
   "source": [
    "data.node_congestion = (data.node_congestion >= 3).long()\n",
    "data.num_instances = data.node_congestion.shape[0]\n",
    "out_degrees = data.node_features[:, 2]\n",
    "mask = (out_degrees < 3000)\n",
    "new_indices = torch.nonzero(mask, as_tuple=False).view(-1)\n",
    "mapping = -torch.ones(data.node_features.size(0), dtype=torch.long)\n",
    "mapping[new_indices] = torch.arange(new_indices.size(0))\n",
    "# Filter edges where both nodes are in the selected nodes\n",
    "mask_edges = mask[data.edge_index_source_sink[0]] & mask[data.edge_index_source_sink[1]]\n",
    "filtered_edge_index = data.edge_index_source_sink[:, mask_edges]"
   ]
  },
  {
   "cell_type": "code",
   "execution_count": 142,
   "id": "1e280aa8-1557-40e0-bf47-4413ebe64024",
   "metadata": {},
   "outputs": [],
   "source": [
    "for data in dataset:\n",
    "    num_instances = data.node_congestion.shape[0]\n",
    "    data.num_instances = num_instances\n",
    "    \n",
    "    data.edge_index_source_to_net[1] = data.edge_index_source_to_net[1] - num_instances\n",
    "    data.edge_index_sink_to_net[1] = data.edge_index_sink_to_net[1] - num_instances\n",
    "    \n",
    "    edge_index_node_to_net = torch.cat([data.edge_index_source_to_net, data.edge_index_sink_to_net], dim=1)\n",
    "    #data.edge_index_net_to_node = torch.flip(edge_index_node_to_net, [0])\n",
    "    \n",
    "    data.edge_index_source_sink = None\n",
    "    data.edge_index_sink_source = None"
   ]
  },
  {
   "cell_type": "code",
   "execution_count": 81,
   "id": "975d9f2d-e324-458b-96c5-2c870d6ce033",
   "metadata": {},
   "outputs": [],
   "source": [
    "h_dataset = torch.load(\"../h_dataset.pt\")"
   ]
  },
  {
   "cell_type": "code",
   "execution_count": 119,
   "id": "05661041-29bb-4143-933b-027afc473044",
   "metadata": {},
   "outputs": [],
   "source": [
    "select_num_instances = h_dataset[-7].num_instances"
   ]
  },
  {
   "cell_type": "code",
   "execution_count": 120,
   "id": "f7a618ed-6d7c-4558-a860-68c1a6626e57",
   "metadata": {},
   "outputs": [],
   "source": [
    "all_indices = []\n",
    "for idx in range(len(h_dataset)):\n",
    "    h_data = h_dataset[idx]\n",
    "    if h_data.num_instances == select_num_instances:\n",
    "        all_indices.append(idx)"
   ]
  },
  {
   "cell_type": "code",
   "execution_count": 177,
   "id": "50dd34b7-cc67-4021-8efa-c2fab821dc8e",
   "metadata": {},
   "outputs": [
    {
     "ename": "AttributeError",
     "evalue": "'HeteroData' has no attribute 'design_name'",
     "output_type": "error",
     "traceback": [
      "\u001b[0;31m---------------------------------------------------------------------------\u001b[0m",
      "\u001b[0;31mAttributeError\u001b[0m                            Traceback (most recent call last)",
      "Cell \u001b[0;32mIn[177], line 4\u001b[0m\n\u001b[1;32m      2\u001b[0m \u001b[38;5;28;01mfor\u001b[39;00m idx \u001b[38;5;129;01min\u001b[39;00m \u001b[38;5;28mrange\u001b[39m(\u001b[38;5;28mlen\u001b[39m(h_dataset)):\n\u001b[1;32m      3\u001b[0m     data \u001b[38;5;241m=\u001b[39m h_dataset[idx]\n\u001b[0;32m----> 4\u001b[0m     design_name \u001b[38;5;241m=\u001b[39m \u001b[43mdata\u001b[49m\u001b[38;5;241;43m.\u001b[39;49m\u001b[43mdesign_name\u001b[49m\n\u001b[1;32m      5\u001b[0m     design_index \u001b[38;5;241m=\u001b[39m \u001b[38;5;28mint\u001b[39m(design_name\u001b[38;5;241m.\u001b[39msplit(\u001b[38;5;124m\"\u001b[39m\u001b[38;5;124m_\u001b[39m\u001b[38;5;124m\"\u001b[39m)[\u001b[38;5;241m1\u001b[39m])\n\u001b[1;32m      6\u001b[0m     design_indices_dict[design_index]\u001b[38;5;241m.\u001b[39mappend(idx)\n",
      "File \u001b[0;32m~/anaconda3/lib/python3.8/site-packages/torch_geometric/data/hetero_data.py:159\u001b[0m, in \u001b[0;36mHeteroData.__getattr__\u001b[0;34m(self, key)\u001b[0m\n\u001b[1;32m    157\u001b[0m \u001b[38;5;28;01melif\u001b[39;00m \u001b[38;5;28mbool\u001b[39m(re\u001b[38;5;241m.\u001b[39msearch(\u001b[38;5;124m'\u001b[39m\u001b[38;5;124m_dict$\u001b[39m\u001b[38;5;124m'\u001b[39m, key)):\n\u001b[1;32m    158\u001b[0m     \u001b[38;5;28;01mreturn\u001b[39;00m \u001b[38;5;28mself\u001b[39m\u001b[38;5;241m.\u001b[39mcollect(key[:\u001b[38;5;241m-\u001b[39m\u001b[38;5;241m5\u001b[39m])\n\u001b[0;32m--> 159\u001b[0m \u001b[38;5;28;01mraise\u001b[39;00m \u001b[38;5;167;01mAttributeError\u001b[39;00m(\u001b[38;5;124mf\u001b[39m\u001b[38;5;124m\"\u001b[39m\u001b[38;5;124m'\u001b[39m\u001b[38;5;132;01m{\u001b[39;00m\u001b[38;5;28mself\u001b[39m\u001b[38;5;241m.\u001b[39m\u001b[38;5;18m__class__\u001b[39m\u001b[38;5;241m.\u001b[39m\u001b[38;5;18m__name__\u001b[39m\u001b[38;5;132;01m}\u001b[39;00m\u001b[38;5;124m'\u001b[39m\u001b[38;5;124m has no \u001b[39m\u001b[38;5;124m\"\u001b[39m\n\u001b[1;32m    160\u001b[0m                      \u001b[38;5;124mf\u001b[39m\u001b[38;5;124m\"\u001b[39m\u001b[38;5;124mattribute \u001b[39m\u001b[38;5;124m'\u001b[39m\u001b[38;5;132;01m{\u001b[39;00mkey\u001b[38;5;132;01m}\u001b[39;00m\u001b[38;5;124m'\u001b[39m\u001b[38;5;124m\"\u001b[39m)\n",
      "\u001b[0;31mAttributeError\u001b[0m: 'HeteroData' has no attribute 'design_name'"
     ]
    }
   ],
   "source": [
    "design_indices_dict = defaultdict(list)\n",
    "for idx in range(len(h_dataset)):\n",
    "    data = h_dataset[idx]\n",
    "    design_name = data.design_name\n",
    "    design_index = int(design_name.split(\"_\")[1])\n",
    "    design_indices_dict[design_index].append(idx)"
   ]
  },
  {
   "cell_type": "code",
   "execution_count": 176,
   "id": "26314d85-e6b0-4411-9f47-6a70b31631b7",
   "metadata": {},
   "outputs": [
    {
     "ename": "NameError",
     "evalue": "name 'design_indices_dict' is not defined",
     "output_type": "error",
     "traceback": [
      "\u001b[0;31m---------------------------------------------------------------------------\u001b[0m",
      "\u001b[0;31mNameError\u001b[0m                                 Traceback (most recent call last)",
      "Cell \u001b[0;32mIn[176], line 6\u001b[0m\n\u001b[1;32m      3\u001b[0m all_valid_indices \u001b[38;5;241m=\u001b[39m []\n\u001b[1;32m      4\u001b[0m all_test_indices \u001b[38;5;241m=\u001b[39m []\n\u001b[0;32m----> 6\u001b[0m \u001b[38;5;28;01mfor\u001b[39;00m design, design_indices \u001b[38;5;129;01min\u001b[39;00m \u001b[43mdesign_indices_dict\u001b[49m\u001b[38;5;241m.\u001b[39mitems():\n\u001b[1;32m      7\u001b[0m     \u001b[38;5;28;01mif\u001b[39;00m \u001b[38;5;28mlen\u001b[39m(design_indices) \u001b[38;5;241m<\u001b[39m\u001b[38;5;241m=\u001b[39m \u001b[38;5;241m2\u001b[39m:\n\u001b[1;32m      8\u001b[0m         \u001b[38;5;28;01mcontinue\u001b[39;00m\n",
      "\u001b[0;31mNameError\u001b[0m: name 'design_indices_dict' is not defined"
     ]
    }
   ],
   "source": [
    "#start building split index\n",
    "all_train_indices = []\n",
    "all_valid_indices = []\n",
    "all_test_indices = []\n",
    "\n",
    "for design, design_indices in design_indices_dict.items():\n",
    "    if len(design_indices) <= 2:\n",
    "        continue\n",
    "    train_indices, valid_indices = train_test_split(design_indices, test_size=0.1, random_state=1)\n",
    "    #test_indices, valid_indices = train_test_split(test_indices, test_size=0.5, random_state=1)\n",
    "    all_train_indices.append(train_indices)\n",
    "    all_valid_indices.append(valid_indices)\n",
    "    #all_test_indices.append(test_indices)"
   ]
  },
  {
   "cell_type": "code",
   "execution_count": 12,
   "id": "497b0251-b18d-459d-b44e-dfe37f04cf31",
   "metadata": {},
   "outputs": [],
   "source": [
    "all_train_indices = np.concatenate(all_train_indices)\n",
    "all_valid_indices = np.concatenate(all_valid_indices)\n",
    "#all_test_indices = np.concatenate(all_test_indices)"
   ]
  },
  {
   "cell_type": "code",
   "execution_count": 16,
   "id": "0c3eb3f2-81f9-42d4-b42c-224cb361116b",
   "metadata": {},
   "outputs": [],
   "source": [
    "pickle.dump((all_train_indices, all_valid_indices, all_test_indices), open(\"cross_design_data_split.pt\", \"wb\"))"
   ]
  },
  {
   "cell_type": "code",
   "execution_count": 122,
   "id": "9aa9ddb7-df31-41d7-aaba-f33ba88354fc",
   "metadata": {},
   "outputs": [],
   "source": [
    "data_dir = \"15_designs_regions/\""
   ]
  },
  {
   "cell_type": "code",
   "execution_count": 165,
   "id": "f61c25dc-8d6c-456a-8d7f-afeff3819161",
   "metadata": {},
   "outputs": [],
   "source": [
    "for design_fp in os.listdir(data_dir):\n",
    "    fp_dir = data_dir + design_fp + \"/\"\n",
    "\n",
    "    design_num = design_fp.split(\"_\")[1]\n",
    "\n",
    "    node2regionbox = pickle.load(open(fp_dir + \"node2regionbox.pkl\", \"rb\"))\n",
    "    regionbox2xh = pickle.load(open(fp_dir + \"regionbox2xh.pkl\", \"rb\"))\n",
    "    regionbox2xl = pickle.load(open(fp_dir + \"regionbox2xl.pkl\", \"rb\"))\n",
    "    regionbox2yh = pickle.load(open(fp_dir + \"regionbox2yh.pkl\", \"rb\"))\n",
    "    regionbox2yl = pickle.load(open(fp_dir + \"regionbox2yl.pkl\", \"rb\"))\n",
    "    break"
   ]
  },
  {
   "cell_type": "code",
   "execution_count": 167,
   "id": "781ef82a-04da-41c5-9efd-e80fae0fe045",
   "metadata": {},
   "outputs": [],
   "source": [
    "node2regionbox += 1"
   ]
  },
  {
   "cell_type": "code",
   "execution_count": 168,
   "id": "1dde40d9-dd81-4db4-a5b3-49c86335f3a2",
   "metadata": {},
   "outputs": [],
   "source": [
    "region_box_pos = np.vstack([regionbox2xh, regionbox2xl, regionbox2yh, regionbox2yl]).T"
   ]
  },
  {
   "cell_type": "code",
   "execution_count": 169,
   "id": "784a5d8d-4e89-4b15-bd37-2a23025c3556",
   "metadata": {},
   "outputs": [],
   "source": [
    "region_box_pos = np.concatenate([-np.ones((1, regionbox2xh.shape[0])), region_box_pos])"
   ]
  },
  {
   "cell_type": "code",
   "execution_count": 170,
   "id": "ddb01183-5013-4ef7-945d-a3ab7a908acd",
   "metadata": {},
   "outputs": [
    {
     "data": {
      "text/plain": [
       "674691"
      ]
     },
     "execution_count": 170,
     "metadata": {},
     "output_type": "execute_result"
    }
   ],
   "source": [
    "node2regionbox.shape[0]"
   ]
  },
  {
   "cell_type": "code",
   "execution_count": 175,
   "id": "4122d8bb-b0c2-44e5-9544-bf7ca87dcbcd",
   "metadata": {},
   "outputs": [],
   "source": [
    "region_features = region_box_pos[node2regionbox]"
   ]
  },
  {
   "cell_type": "code",
   "execution_count": 57,
   "id": "70d06216-54ae-4d33-bf16-0a3dbc5afaa7",
   "metadata": {},
   "outputs": [],
   "source": [
    "np.random.shuffle(all_train_indices)"
   ]
  },
  {
   "cell_type": "code",
   "execution_count": 66,
   "id": "ccc1b435-fc8f-48af-8576-f027a2aee63e",
   "metadata": {},
   "outputs": [
    {
     "name": "stderr",
     "output_type": "stream",
     "text": [
      "100%|███████████████████████████████████████████████████████████████████████████████████████████████████████████████████████████████████████████████| 150/150 [00:00<00:00, 4591.06it/s]\n"
     ]
    }
   ],
   "source": [
    "for design_fp in tqdm(os.listdir(\"cross_design_data/\")):\n",
    "    new_directory_path = f'processed_datasets/{design_fp}'\n",
    "    os.makedirs(new_directory_path, exist_ok=True)\n",
    "\n",
    "    source_file_path = f'cross_design_data/{design_fp}/pyg_data.pkl'  \n",
    "    destination_file_path = os.path.join(new_directory_path, os.path.basename(source_file_path))\n",
    "\n",
    "    shutil.move(source_file_path, destination_file_path)"
   ]
  },
  {
   "cell_type": "code",
   "execution_count": 104,
   "id": "ebcfaa30-738b-46a6-b66d-9e40cef30243",
   "metadata": {},
   "outputs": [],
   "source": [
    "data = dataset[1]"
   ]
  },
  {
   "cell_type": "code",
   "execution_count": 105,
   "id": "05ff200d-ec7d-4758-a2b3-3892dacc612f",
   "metadata": {},
   "outputs": [
    {
     "data": {
      "text/plain": [
       "Data(node_features=[600206, 21], net_features=[643597, 12], edge_index_source_sink=[2, 1564639], edge_index_sink_to_net=[2, 1564639], edge_index_source_to_net=[2, 643597], num_vn=0, design_name='Design_136_dmp_1000_data')"
      ]
     },
     "execution_count": 105,
     "metadata": {},
     "output_type": "execute_result"
    }
   ],
   "source": [
    "data"
   ]
  },
  {
   "cell_type": "code",
   "execution_count": 135,
   "id": "ae42e9ce-3730-4b27-9a86-49cac0239db3",
   "metadata": {},
   "outputs": [],
   "source": [
    "from torch_geometric.data import HeteroData"
   ]
  },
  {
   "cell_type": "code",
   "execution_count": 136,
   "id": "1a9d0b2a-ffa9-4b0c-9d31-d7479bb47148",
   "metadata": {},
   "outputs": [],
   "source": [
    "h_data_lst = []\n",
    "for data in dataset:\n",
    "    \n",
    "    h_data = HeteroData()\n",
    "    h_data['node'].x = data.node_features\n",
    "    h_data['node'].y = data.node_congestion\n",
    "    \n",
    "    h_data['net'].x = data.net_features\n",
    "    h_data['net'].y = data.net_hpwl\n",
    "    \n",
    "    h_data['node', 'as_a_sink_of', 'net'].edge_index = data.edge_index_sink_to_net\n",
    "    h_data['node', 'as_a_source_of', 'net'].edge_index = data.edge_index_source_to_net\n",
    "    h_data['net', 'connected_to', 'node'].edge_index = data.edge_index_net_to_node\n",
    "\n",
    "    h_data.batch = data.batch\n",
    "    h_data.num_vn = data.num_vn\n",
    "    h_data_lst.append(h_data)"
   ]
  },
  {
   "cell_type": "code",
   "execution_count": 37,
   "id": "4e2660a6-1f20-48a1-ae2e-c9f9a330118e",
   "metadata": {},
   "outputs": [],
   "source": [
    "torch.save(h_data, \"h_data.pt\")"
   ]
  },
  {
   "cell_type": "code",
   "execution_count": 92,
   "id": "4137d2c9-8bc2-4702-bfe1-bb95f2550a95",
   "metadata": {},
   "outputs": [],
   "source": [
    "from torch_geometric.loader import NeighborLoader"
   ]
  },
  {
   "cell_type": "code",
   "execution_count": 137,
   "id": "18229896-4c19-4dba-bfc3-e8353916fc25",
   "metadata": {},
   "outputs": [],
   "source": [
    "l_data = h_data"
   ]
  },
  {
   "cell_type": "code",
   "execution_count": null,
   "id": "7ecb2b9d-9bdc-4c73-adaa-b881e0d3c293",
   "metadata": {},
   "outputs": [],
   "source": [
    "loader = NeighborLoader(\n",
    "                l_data,\n",
    "                num_neighbors={key: [10] * 4 for key in h_data.edge_types},\n",
    "                input_nodes=('net', mask),\n",
    "                batch_size=6400 \n",
    "            )"
   ]
  },
  {
   "cell_type": "code",
   "execution_count": 139,
   "id": "16f96759-bb86-485c-8f2e-4bc4e9c40ad6",
   "metadata": {},
   "outputs": [],
   "source": [
    "for data in loader:\n",
    "    break"
   ]
  },
  {
   "cell_type": "code",
   "execution_count": 140,
   "id": "4973c640-c46c-458f-ba49-5aca5e21b4b9",
   "metadata": {},
   "outputs": [
    {
     "data": {
      "text/plain": [
       "HeteroData(\n",
       "  batch=[708535],\n",
       "  num_vn=10093,\n",
       "  node={\n",
       "    x=[0, 19],\n",
       "    y=[0],\n",
       "    n_id=[0],\n",
       "  },\n",
       "  net={\n",
       "    x=[1280, 2],\n",
       "    y=[1280],\n",
       "    n_id=[1280],\n",
       "    input_id=[1280],\n",
       "    batch_size=1280,\n",
       "  },\n",
       "  (node, as_a_sink_of, net)={\n",
       "    edge_index=[2, 0],\n",
       "    e_id=[0],\n",
       "  },\n",
       "  (node, as_a_source_of, net)={\n",
       "    edge_index=[2, 0],\n",
       "    e_id=[0],\n",
       "  },\n",
       "  (net, connected_to, node)={\n",
       "    edge_index=[2, 0],\n",
       "    e_id=[0],\n",
       "  }\n",
       ")"
      ]
     },
     "execution_count": 140,
     "metadata": {},
     "output_type": "execute_result"
    }
   ],
   "source": [
    "data"
   ]
  },
  {
   "cell_type": "code",
   "execution_count": 125,
   "id": "ae2827c6-74d4-4a32-976b-9b744193ae00",
   "metadata": {},
   "outputs": [],
   "source": [
    "data.batch = data.batch[data['node'].n_id]"
   ]
  },
  {
   "cell_type": "code",
   "execution_count": 42,
   "id": "b5d7307b-1a04-4505-beb2-8b5ee0987f34",
   "metadata": {},
   "outputs": [],
   "source": [
    "from torch_geometric.datasets import OGB_MAG\n",
    "from torch_geometric.loader import NeighborLoader\n",
    "\n",
    "hetero_data = OGB_MAG(\"test\")[0]\n",
    "\n",
    "loader = NeighborLoader(\n",
    "    hetero_data,\n",
    "    num_neighbors={key: [30] * 2 for key in hetero_data.edge_types},\n",
    "    batch_size=128,\n",
    "    input_nodes=('paper', hetero_data['paper'].train_mask),\n",
    ")"
   ]
  },
  {
   "cell_type": "code",
   "execution_count": 48,
   "id": "e5a133d6-d744-41d9-9ec5-d6980d6b2ae9",
   "metadata": {},
   "outputs": [
    {
     "data": {
      "text/plain": [
       "HeteroData(\n",
       "  paper={\n",
       "    x=[736389, 128],\n",
       "    year=[736389],\n",
       "    y=[736389],\n",
       "    train_mask=[736389],\n",
       "    val_mask=[736389],\n",
       "    test_mask=[736389],\n",
       "  },\n",
       "  author={ num_nodes=1134649 },\n",
       "  institution={ num_nodes=8740 },\n",
       "  field_of_study={ num_nodes=59965 },\n",
       "  (author, affiliated_with, institution)={ edge_index=[2, 1043998] },\n",
       "  (author, writes, paper)={ edge_index=[2, 7145660] },\n",
       "  (paper, cites, paper)={ edge_index=[2, 5416271] },\n",
       "  (paper, has_topic, field_of_study)={ edge_index=[2, 7505078] }\n",
       ")"
      ]
     },
     "execution_count": 48,
     "metadata": {},
     "output_type": "execute_result"
    }
   ],
   "source": [
    "hetero_data"
   ]
  },
  {
   "cell_type": "code",
   "execution_count": 103,
   "id": "62987404-b87c-471a-a325-17b7f59020ab",
   "metadata": {},
   "outputs": [],
   "source": [
    "mask = torch.tensor([True for idx in range(len(h_data['net'].x))])"
   ]
  },
  {
   "cell_type": "code",
   "execution_count": 50,
   "id": "8ef18fbd-0111-4eba-98d3-b70dffbf4e76",
   "metadata": {},
   "outputs": [],
   "source": [
    "import os\n",
    "import shutil"
   ]
  },
  {
   "cell_type": "code",
   "execution_count": 51,
   "id": "a35fa92c-e28c-4550-97ba-96c1f3713bc8",
   "metadata": {},
   "outputs": [],
   "source": [
    "current_dir = \"cross_design_data\""
   ]
  },
  {
   "cell_type": "code",
   "execution_count": 53,
   "id": "f809a40b-7fe2-4e68-ba52-6284480a7fdb",
   "metadata": {},
   "outputs": [
    {
     "name": "stdout",
     "output_type": "stream",
     "text": [
      "Removing directory: cross_design_data/Design_67_vivado_AltSpreadLogic_medium_data\n",
      "Removing directory: cross_design_data/Design_32_vivado_AltSpreadLogic_low_data\n",
      "Removing directory: cross_design_data/Design_42_vivado_AltSpreadLogic_high_data\n",
      "Removing directory: cross_design_data/Design_70_vivado_AltSpreadLogic_low_data\n",
      "Removing directory: cross_design_data/Design_6_vivado_AltSpreadLogic_high_data\n",
      "Removing directory: cross_design_data/Design_222_vivado_AltSpreadLogic_medium_data\n",
      "Removing directory: cross_design_data/Design_32_vivado_AltSpreadLogic_medium_data\n",
      "Removing directory: cross_design_data/Design_81_vivado_AltSpreadLogic_high_data\n",
      "Removing directory: cross_design_data/Design_26_vivado_AltSpreadLogic_medium_data\n",
      "Removing directory: cross_design_data/Design_91_vivado_AltSpreadLogic_high_data\n",
      "Removing directory: cross_design_data/Design_57_vivado_AltSpreadLogic_high_data\n",
      "Removing directory: cross_design_data/Design_65_vivado_AltSpreadLogic_high_data\n",
      "Removing directory: cross_design_data/Design_25_vivado_AltSpreadLogic_medium_data\n",
      "Removing directory: cross_design_data/Design_76_vivado_AltSpreadLogic_medium_data\n",
      "Removing directory: cross_design_data/Design_217_vivado_AltSpreadLogic_low_data\n",
      "Removing directory: cross_design_data/Design_5_vivado_AltSpreadLogic_low_data\n",
      "Removing directory: cross_design_data/Design_90_vivado_AltSpreadLogic_low_data\n",
      "Removing directory: cross_design_data/Design_56_vivado_AltSpreadLogic_low_data\n",
      "Removing directory: cross_design_data/Design_232_vivado_AltSpreadLogic_high_data\n",
      "Removing directory: cross_design_data/Design_216_vivado_AltSpreadLogic_low_data\n",
      "Removing directory: cross_design_data/Design_86_vivado_AltSpreadLogic_medium_data\n",
      "Removing directory: cross_design_data/Design_52_vivado_AltSpreadLogic_medium_data\n",
      "Removing directory: cross_design_data/Design_70_vivado_AltSpreadLogic_medium_data\n",
      "Removing directory: cross_design_data/Design_87_vivado_AltSpreadLogic_medium_data\n",
      "Removing directory: cross_design_data/Design_87_vivado_AltSpreadLogic_low_data\n",
      "Removing directory: cross_design_data/Design_62_vivado_AltSpreadLogic_medium_data\n",
      "Removing directory: cross_design_data/Design_82_vivado_AltSpreadLogic_medium_data\n",
      "Removing directory: cross_design_data/Design_97_vivado_AltSpreadLogic_high_data\n",
      "Removing directory: cross_design_data/Design_5_vivado_AltSpreadLogic_high_data\n",
      "Removing directory: cross_design_data/Design_7_vivado_AltSpreadLogic_high_data\n",
      "Removing directory: cross_design_data/Design_225_vivado_AltSpreadLogic_medium_data\n",
      "Removing directory: cross_design_data/Design_240_vivado_AltSpreadLogic_low_data\n",
      "Removing directory: cross_design_data/Design_81_vivado_AltSpreadLogic_medium_data\n",
      "Removing directory: cross_design_data/Design_96_vivado_AltSpreadLogic_low_data\n",
      "Removing directory: cross_design_data/Design_91_vivado_AltSpreadLogic_low_data\n",
      "Removing directory: cross_design_data/Design_50_vivado_AltSpreadLogic_medium_data\n",
      "Removing directory: cross_design_data/Design_30_vivado_AltSpreadLogic_medium_data\n",
      "Removing directory: cross_design_data/Design_97_vivado_AltSpreadLogic_low_data\n",
      "Removing directory: cross_design_data/Design_42_vivado_AltSpreadLogic_medium_data\n",
      "Removing directory: cross_design_data/Design_221_vivado_AltSpreadLogic_high_data\n",
      "Removing directory: cross_design_data/Design_97_vivado_AltSpreadLogic_medium_data\n",
      "Removing directory: cross_design_data/Design_25_vivado_AltSpreadLogic_low_data\n",
      "Removing directory: cross_design_data/Design_95_vivado_AltSpreadLogic_high_data\n",
      "Removing directory: cross_design_data/Design_36_vivado_AltSpreadLogic_low_data\n",
      "Removing directory: cross_design_data/Design_95_vivado_AltSpreadLogic_medium_data\n",
      "Removing directory: cross_design_data/Design_76_vivado_AltSpreadLogic_low_data\n",
      "Removing directory: cross_design_data/Design_222_vivado_AltSpreadLogic_low_data\n",
      "Removing directory: cross_design_data/Design_22_vivado_AltSpreadLogic_low_data\n",
      "Removing directory: cross_design_data/Design_56_vivado_AltSpreadLogic_medium_data\n",
      "Removing directory: cross_design_data/Design_51_vivado_AltSpreadLogic_low_data\n",
      "Removing directory: cross_design_data/Design_26_vivado_AltSpreadLogic_high_data\n",
      "Removing directory: cross_design_data/Design_235_vivado_AltSpreadLogic_medium_data\n",
      "Removing directory: cross_design_data/Design_221_vivado_AltSpreadLogic_medium_data\n",
      "Removing directory: cross_design_data/Design_232_vivado_AltSpreadLogic_medium_data\n",
      "Removing directory: cross_design_data/Design_7_vivado_AltSpreadLogic_low_data\n",
      "Removing directory: cross_design_data/Design_207_vivado_AltSpreadLogic_medium_data\n",
      "Removing directory: cross_design_data/Design_51_vivado_AltSpreadLogic_high_data\n",
      "Removing directory: cross_design_data/Design_211_vivado_AltSpreadLogic_high_data\n",
      "Removing directory: cross_design_data/Design_90_vivado_AltSpreadLogic_high_data\n",
      "Removing directory: cross_design_data/Design_90_vivado_AltSpreadLogic_medium_data\n",
      "Removing directory: cross_design_data/Design_65_vivado_AltSpreadLogic_low_data\n",
      "Removing directory: cross_design_data/Design_75_vivado_AltSpreadLogic_high_data\n",
      "Removing directory: cross_design_data/Design_45_vivado_AltSpreadLogic_high_data\n",
      "Removing directory: cross_design_data/Design_32_vivado_AltSpreadLogic_high_data\n",
      "Removing directory: cross_design_data/Design_5_vivado_AltSpreadLogic_medium_data\n",
      "Removing directory: cross_design_data/Design_57_vivado_AltSpreadLogic_medium_data\n",
      "Removing directory: cross_design_data/Design_47_vivado_AltSpreadLogic_low_data\n",
      "Removing directory: cross_design_data/Design_6_vivado_AltSpreadLogic_medium_data\n",
      "Removing directory: cross_design_data/Design_21_vivado_AltSpreadLogic_medium_data\n",
      "Removing directory: cross_design_data/Design_36_vivado_AltSpreadLogic_medium_data\n",
      "Removing directory: cross_design_data/Design_70_vivado_AltSpreadLogic_high_data\n",
      "Removing directory: cross_design_data/Design_66_vivado_AltSpreadLogic_medium_data\n",
      "Removing directory: cross_design_data/Design_72_vivado_AltSpreadLogic_medium_data\n",
      "Removing directory: cross_design_data/Design_52_vivado_AltSpreadLogic_low_data\n",
      "Removing directory: cross_design_data/Design_237_vivado_AltSpreadLogic_medium_data\n",
      "Removing directory: cross_design_data/Design_55_vivado_AltSpreadLogic_high_data\n",
      "Removing directory: cross_design_data/Design_71_vivado_AltSpreadLogic_medium_data\n",
      "Removing directory: cross_design_data/Design_215_vivado_AltSpreadLogic_medium_data\n",
      "Removing directory: cross_design_data/Design_96_vivado_AltSpreadLogic_medium_data\n",
      "Removing directory: cross_design_data/Design_65_vivado_AltSpreadLogic_medium_data\n",
      "Removing directory: cross_design_data/Design_82_vivado_AltSpreadLogic_low_data\n",
      "Removing directory: cross_design_data/Design_40_vivado_AltSpreadLogic_medium_data\n",
      "Removing directory: cross_design_data/Design_212_vivado_AltSpreadLogic_low_data\n",
      "Removing directory: cross_design_data/Design_41_vivado_AltSpreadLogic_low_data\n",
      "Removing directory: cross_design_data/Design_237_vivado_AltSpreadLogic_low_data\n",
      "Removing directory: cross_design_data/Design_46_vivado_AltSpreadLogic_low_data\n",
      "Removing directory: cross_design_data/Design_80_vivado_AltSpreadLogic_medium_data\n",
      "Removing directory: cross_design_data/Design_210_vivado_AltSpreadLogic_medium_data\n",
      "Removing directory: cross_design_data/Design_45_vivado_AltSpreadLogic_low_data\n",
      "Removing directory: cross_design_data/Design_240_vivado_AltSpreadLogic_medium_data\n",
      "Removing directory: cross_design_data/Design_31_vivado_AltSpreadLogic_high_data\n",
      "Removing directory: cross_design_data/Design_235_vivado_AltSpreadLogic_high_data\n",
      "Removing directory: cross_design_data/Design_85_vivado_AltSpreadLogic_low_data\n",
      "Removing directory: cross_design_data/Design_77_vivado_AltSpreadLogic_high_data\n",
      "Removing directory: cross_design_data/Design_61_vivado_AltSpreadLogic_low_data\n",
      "Removing directory: cross_design_data/Design_231_vivado_AltSpreadLogic_high_data\n",
      "Removing directory: cross_design_data/Design_76_vivado_AltSpreadLogic_high_data\n",
      "Removing directory: cross_design_data/Design_96_vivado_AltSpreadLogic_high_data\n",
      "Removing directory: cross_design_data/Design_230_vivado_AltSpreadLogic_low_data\n",
      "Removing directory: cross_design_data/Design_21_vivado_AltSpreadLogic_high_data\n",
      "Removing directory: cross_design_data/Design_85_vivado_AltSpreadLogic_medium_data\n",
      "Removing directory: cross_design_data/Design_85_vivado_AltSpreadLogic_high_data\n",
      "Removing directory: cross_design_data/Design_215_vivado_AltSpreadLogic_low_data\n",
      "Removing directory: cross_design_data/Design_7_vivado_AltSpreadLogic_medium_data\n",
      "Removing directory: cross_design_data/Design_216_vivado_AltSpreadLogic_medium_data\n",
      "Removing directory: cross_design_data/Design_227_vivado_AltSpreadLogic_high_data\n",
      "Removing directory: cross_design_data/Design_210_vivado_AltSpreadLogic_low_data\n",
      "Removing directory: cross_design_data/Design_80_vivado_AltSpreadLogic_low_data\n",
      "Removing directory: cross_design_data/Design_220_vivado_AltSpreadLogic_medium_data\n",
      "Removing directory: cross_design_data/Design_92_vivado_AltSpreadLogic_high_data\n",
      "Removing directory: cross_design_data/Design_240_vivado_AltSpreadLogic_high_data\n",
      "Removing directory: cross_design_data/Design_71_vivado_AltSpreadLogic_high_data\n",
      "Removing directory: cross_design_data/Design_21_vivado_AltSpreadLogic_low_data\n",
      "Removing directory: cross_design_data/Design_92_vivado_AltSpreadLogic_low_data\n",
      "Removing directory: cross_design_data/Design_66_vivado_AltSpreadLogic_high_data\n",
      "Removing directory: cross_design_data/Design_80_vivado_AltSpreadLogic_high_data\n",
      "Removing directory: cross_design_data/Design_42_vivado_AltSpreadLogic_low_data\n",
      "Removing directory: cross_design_data/Design_91_vivado_AltSpreadLogic_medium_data\n",
      "Removing directory: cross_design_data/Design_215_vivado_AltSpreadLogic_high_data\n",
      "Removing directory: cross_design_data/Design_46_vivado_AltSpreadLogic_medium_data\n",
      "Removing directory: cross_design_data/Design_225_vivado_AltSpreadLogic_high_data\n",
      "Removing directory: cross_design_data/Design_27_vivado_AltSpreadLogic_low_data\n",
      "Removing directory: cross_design_data/Design_75_vivado_AltSpreadLogic_medium_data\n",
      "Removing directory: cross_design_data/Design_227_vivado_AltSpreadLogic_medium_data\n",
      "Removing directory: cross_design_data/Design_72_vivado_AltSpreadLogic_high_data\n",
      "Removing directory: cross_design_data/Design_25_vivado_AltSpreadLogic_high_data\n",
      "Removing directory: cross_design_data/Design_26_vivado_AltSpreadLogic_low_data\n",
      "Removing directory: cross_design_data/Design_236_vivado_AltSpreadLogic_low_data\n",
      "Removing directory: cross_design_data/Design_226_vivado_AltSpreadLogic_medium_data\n",
      "Removing directory: cross_design_data/Design_47_vivado_AltSpreadLogic_medium_data\n",
      "Removing directory: cross_design_data/Design_30_vivado_AltSpreadLogic_low_data\n",
      "Removing directory: cross_design_data/Design_221_vivado_AltSpreadLogic_low_data\n",
      "Removing directory: cross_design_data/Design_57_vivado_AltSpreadLogic_low_data\n",
      "Removing directory: cross_design_data/Design_52_vivado_AltSpreadLogic_high_data\n",
      "Removing directory: cross_design_data/Design_27_vivado_AltSpreadLogic_medium_data\n",
      "Removing directory: cross_design_data/Design_50_vivado_AltSpreadLogic_high_data\n",
      "Removing directory: cross_design_data/Design_62_vivado_AltSpreadLogic_high_data\n",
      "Removing directory: cross_design_data/Design_41_vivado_AltSpreadLogic_medium_data\n",
      "Removing directory: cross_design_data/Design_217_vivado_AltSpreadLogic_high_data\n",
      "Removing directory: cross_design_data/Design_37_vivado_AltSpreadLogic_high_data\n",
      "Removing directory: cross_design_data/Design_45_vivado_AltSpreadLogic_medium_data\n",
      "Removing directory: cross_design_data/Design_37_vivado_AltSpreadLogic_medium_data\n",
      "Removing directory: cross_design_data/Design_212_vivado_AltSpreadLogic_high_data\n",
      "Removing directory: cross_design_data/Design_6_vivado_AltSpreadLogic_low_data\n",
      "Removing directory: cross_design_data/Design_226_vivado_AltSpreadLogic_high_data\n",
      "Removing directory: cross_design_data/Design_62_vivado_AltSpreadLogic_low_data\n",
      "Removing directory: cross_design_data/Design_235_vivado_AltSpreadLogic_low_data\n",
      "Removing directory: cross_design_data/Design_50_vivado_AltSpreadLogic_low_data\n",
      "Removing directory: cross_design_data/Design_30_vivado_AltSpreadLogic_high_data\n",
      "Removing directory: cross_design_data/Design_86_vivado_AltSpreadLogic_high_data\n",
      "Removing directory: cross_design_data/Design_217_vivado_AltSpreadLogic_medium_data\n",
      "Removing directory: cross_design_data/Design_27_vivado_AltSpreadLogic_high_data\n",
      "Removing directory: cross_design_data/Design_92_vivado_AltSpreadLogic_medium_data\n",
      "Removing directory: cross_design_data/Design_55_vivado_AltSpreadLogic_low_data\n",
      "Removing directory: cross_design_data/Design_220_vivado_AltSpreadLogic_high_data\n",
      "Removing directory: cross_design_data/Design_237_vivado_AltSpreadLogic_high_data\n",
      "Removing directory: cross_design_data/Design_227_vivado_AltSpreadLogic_low_data\n",
      "Removing directory: cross_design_data/Design_22_vivado_AltSpreadLogic_medium_data\n",
      "Removing directory: cross_design_data/Design_87_vivado_AltSpreadLogic_high_data\n",
      "Removing directory: cross_design_data/Design_236_vivado_AltSpreadLogic_medium_data\n",
      "Removing directory: cross_design_data/Design_207_vivado_AltSpreadLogic_low_data\n",
      "Removing directory: cross_design_data/Design_231_vivado_AltSpreadLogic_medium_data\n",
      "Removing directory: cross_design_data/Design_40_vivado_AltSpreadLogic_low_data\n",
      "Removing directory: cross_design_data/Design_230_vivado_AltSpreadLogic_high_data\n",
      "Removing directory: cross_design_data/Design_77_vivado_AltSpreadLogic_low_data\n",
      "Removing directory: cross_design_data/Design_212_vivado_AltSpreadLogic_medium_data\n",
      "Removing directory: cross_design_data/Design_71_vivado_AltSpreadLogic_low_data\n",
      "Removing directory: cross_design_data/Design_61_vivado_AltSpreadLogic_high_data\n",
      "Removing directory: cross_design_data/Design_55_vivado_AltSpreadLogic_medium_data\n",
      "Removing directory: cross_design_data/Design_22_vivado_AltSpreadLogic_high_data\n",
      "Removing directory: cross_design_data/Design_46_vivado_AltSpreadLogic_high_data\n",
      "Removing directory: cross_design_data/Design_37_vivado_AltSpreadLogic_low_data\n",
      "Removing directory: cross_design_data/Design_207_vivado_AltSpreadLogic_high_data\n",
      "Removing directory: cross_design_data/Design_35_vivado_AltSpreadLogic_medium_data\n",
      "Removing directory: cross_design_data/Design_31_vivado_AltSpreadLogic_low_data\n",
      "Removing directory: cross_design_data/Design_36_vivado_AltSpreadLogic_high_data\n",
      "Removing directory: cross_design_data/Design_86_vivado_AltSpreadLogic_low_data\n",
      "Removing directory: cross_design_data/Design_230_vivado_AltSpreadLogic_medium_data\n",
      "Removing directory: cross_design_data/Design_40_vivado_AltSpreadLogic_high_data\n",
      "Removing directory: cross_design_data/Design_81_vivado_AltSpreadLogic_low_data\n",
      "Removing directory: cross_design_data/Design_31_vivado_AltSpreadLogic_medium_data\n",
      "Removing directory: cross_design_data/Design_41_vivado_AltSpreadLogic_high_data\n",
      "Removing directory: cross_design_data/Design_77_vivado_AltSpreadLogic_medium_data\n",
      "Removing directory: cross_design_data/Design_220_vivado_AltSpreadLogic_low_data\n",
      "Removing directory: cross_design_data/Design_231_vivado_AltSpreadLogic_low_data\n",
      "Removing directory: cross_design_data/Design_56_vivado_AltSpreadLogic_high_data\n",
      "Removing directory: cross_design_data/Design_61_vivado_AltSpreadLogic_medium_data\n",
      "Removing directory: cross_design_data/Design_47_vivado_AltSpreadLogic_high_data\n",
      "Removing directory: cross_design_data/Design_225_vivado_AltSpreadLogic_low_data\n",
      "Removing directory: cross_design_data/Design_35_vivado_AltSpreadLogic_low_data\n",
      "Removing directory: cross_design_data/Design_67_vivado_AltSpreadLogic_low_data\n",
      "Removing directory: cross_design_data/Design_95_vivado_AltSpreadLogic_low_data\n",
      "Removing directory: cross_design_data/Design_236_vivado_AltSpreadLogic_high_data\n",
      "Removing directory: cross_design_data/Design_60_vivado_AltSpreadLogic_high_data\n",
      "Removing directory: cross_design_data/Design_82_vivado_AltSpreadLogic_high_data\n",
      "Removing directory: cross_design_data/Design_226_vivado_AltSpreadLogic_low_data\n",
      "Removing directory: cross_design_data/Design_35_vivado_AltSpreadLogic_high_data\n",
      "Removing directory: cross_design_data/Design_222_vivado_AltSpreadLogic_high_data\n",
      "Removing directory: cross_design_data/Design_60_vivado_AltSpreadLogic_low_data\n",
      "Removing directory: cross_design_data/Design_232_vivado_AltSpreadLogic_low_data\n",
      "Removing directory: cross_design_data/Design_211_vivado_AltSpreadLogic_medium_data\n",
      "Removing directory: cross_design_data/Design_67_vivado_AltSpreadLogic_high_data\n",
      "Removing directory: cross_design_data/Design_211_vivado_AltSpreadLogic_low_data\n",
      "Removing directory: cross_design_data/Design_60_vivado_AltSpreadLogic_medium_data\n",
      "Removing directory: cross_design_data/Design_75_vivado_AltSpreadLogic_low_data\n",
      "Removing directory: cross_design_data/Design_66_vivado_AltSpreadLogic_low_data\n",
      "Removing directory: cross_design_data/Design_51_vivado_AltSpreadLogic_medium_data\n",
      "Removing directory: cross_design_data/Design_216_vivado_AltSpreadLogic_high_data\n",
      "Removing directory: cross_design_data/Design_210_vivado_AltSpreadLogic_high_data\n",
      "Removing directory: cross_design_data/Design_72_vivado_AltSpreadLogic_low_data\n"
     ]
    }
   ],
   "source": [
    "# Loop through all items in the current directory\n",
    "for folder in os.listdir(current_dir):\n",
    "    folder_path = os.path.join(current_dir, folder)\n",
    "    \n",
    "    # Check if the item is a directory\n",
    "    if os.path.isdir(folder_path):\n",
    "        # Check if \"net2sink_nodes.pkl\" exists in the directory\n",
    "        if not os.path.exists(os.path.join(folder_path, \"net2sink_nodes.pkl\")):\n",
    "            # If not, remove the directory\n",
    "            print(f\"Removing directory: {folder_path}\")\n",
    "            shutil.rmtree(folder_path)"
   ]
  },
  {
   "cell_type": "code",
   "execution_count": null,
   "id": "45597b80-4ce0-4af2-bb07-973708b653b4",
   "metadata": {},
   "outputs": [],
   "source": []
  }
 ],
 "metadata": {
  "kernelspec": {
   "display_name": "Python 3 (ipykernel)",
   "language": "python",
   "name": "python3"
  },
  "language_info": {
   "codemirror_mode": {
    "name": "ipython",
    "version": 3
   },
   "file_extension": ".py",
   "mimetype": "text/x-python",
   "name": "python",
   "nbconvert_exporter": "python",
   "pygments_lexer": "ipython3",
   "version": "3.8.8"
  }
 },
 "nbformat": 4,
 "nbformat_minor": 5
}
