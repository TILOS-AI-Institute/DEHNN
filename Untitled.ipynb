{
 "cells": [
  {
   "cell_type": "code",
   "execution_count": 8,
   "id": "9c22618c-9d23-46a1-9bd8-0183111f40b8",
   "metadata": {},
   "outputs": [],
   "source": [
    "import os\n",
    "import re\n",
    "import numpy as np\n",
    "\n",
    "def find_imports_in_file(file_path):\n",
    "    with open(file_path, 'r', encoding='utf-8') as file:\n",
    "        content = file.read()\n",
    "    imports = re.findall(r'^\\s*(import\\s+\\S+|from\\s+\\S+\\s+import\\s+\\S+)', content, re.MULTILINE)\n",
    "    return imports\n",
    "\n",
    "def scan_directory_for_imports(directory):\n",
    "    imports_dict = {}\n",
    "    for root, _, files in os.walk(directory):\n",
    "        for file in files:\n",
    "            if file.endswith('.py'):\n",
    "                file_path = os.path.join(root, file)\n",
    "                imports = find_imports_in_file(file_path)\n",
    "                if imports:\n",
    "                    imports_dict[file_path] = imports\n",
    "    return imports_dict\n",
    "\n",
    "def write_imports_to_file(imports_dict, output_file):\n",
    "    with open(output_file, 'w', encoding='utf-8') as f:\n",
    "        for file_path, imports in imports_dict.items():\n",
    "            f.write(f'{file_path}:\\n')\n",
    "            for imp in imports:\n",
    "                f.write(f'  {imp}\\n')\n",
    "            f.write('\\n')"
   ]
  },
  {
   "cell_type": "code",
   "execution_count": 2,
   "id": "67b17d45-b93a-4439-99e5-d165f43ef2dc",
   "metadata": {},
   "outputs": [],
   "source": [
    "directory = \"de_hnn/\""
   ]
  },
  {
   "cell_type": "code",
   "execution_count": 3,
   "id": "f57b4a92-b7d0-4202-aa7d-249c5ef46e1f",
   "metadata": {},
   "outputs": [],
   "source": [
    "imports_dict = scan_directory_for_imports(directory)"
   ]
  },
  {
   "cell_type": "code",
   "execution_count": 5,
   "id": "32175c4f-3a74-413a-a3d5-3ed50620ff56",
   "metadata": {},
   "outputs": [],
   "source": [
    "package_set = []"
   ]
  },
  {
   "cell_type": "code",
   "execution_count": 6,
   "id": "55a63771-7057-4c89-8772-33cc39fa3bfd",
   "metadata": {},
   "outputs": [],
   "source": [
    "for file, import_lst in imports_dict.items():\n",
    "    package_set += import_lst"
   ]
  },
  {
   "cell_type": "code",
   "execution_count": 9,
   "id": "ea2d9df2-9d27-4abb-92a2-261882dd214a",
   "metadata": {},
   "outputs": [],
   "source": [
    "package_set = np.unique(package_set)"
   ]
  },
  {
   "cell_type": "code",
   "execution_count": 10,
   "id": "d9f2d575-991d-450c-9fa3-033844c37b9d",
   "metadata": {},
   "outputs": [
    {
     "data": {
      "text/plain": [
       "array(['from NetlistGNN import *', 'from aggregation import Aggregation',\n",
       "       'from allset_layer import AllSetLayer',\n",
       "       'from allset_transformer_layer import AllSetTransformerLayer',\n",
       "       'from collections import defaultdict', 'from conv import Conv',\n",
       "       'from convert_to_dgl import *', 'from convert_to_dgl_net import *',\n",
       "       'from copy import deepcopy', 'from cwn import CWN',\n",
       "       'from cwn_layer import CWNLayer', 'from dgl import add_self_loop,',\n",
       "       'from dgl.nn.pytorch import NNConv,', 'from gnn_hetero import GNN',\n",
       "       'from graph_conv_hetero import GNN_node,',\n",
       "       'from hmpnn import HMPNN', 'from hmpnn_layer import HMPNNLayer',\n",
       "       'from hnhn import HNHN', 'from hnhn_layer import HNHNLayer',\n",
       "       'from hsn import HSN', 'from hsn_layer import HSNLayer',\n",
       "       'from hypergat_layer import HyperGATLayer',\n",
       "       'from hypersage import HyperSAGE',\n",
       "       'from hypersage_layer import HyperSAGELayer',\n",
       "       'from linear_attention_transformer import LinearAttentionTransformer',\n",
       "       'from linear_transformer_model import Linear_Transformer',\n",
       "       'from load_netlistgnn_data import load_data',\n",
       "       'from matplotlib.ticker import PercentFormatter',\n",
       "       'from message_passing import MessagePassing',\n",
       "       'from mlp_model import MLP', 'from multiprocessing import Pool',\n",
       "       'from nodeformer import *', 'from numpy.linalg import eigvals',\n",
       "       'from pd_util import *', 'from persim import PersImage',\n",
       "       'from persim import PersistenceImager',\n",
       "       'from posenc_config import set_cfg_posenc',\n",
       "       'from posenc_stats import compute_posenc_stats',\n",
       "       'from position_encoding import LapPE',\n",
       "       'from pyg_dataset import pyg_dataset',\n",
       "       'from pyg_dataset_net import pyg_dataset',\n",
       "       'from pyg_dataset_sparse import *',\n",
       "       'from pyg_dataset_sparse import pyg_dataset',\n",
       "       'from pyg_dataset_sparse_net import pyg_dataset',\n",
       "       'from scatter import scatter', 'from scipy import stats',\n",
       "       'from scipy.sparse import coo_matrix',\n",
       "       'from scipy.sparse import csgraph',\n",
       "       'from scipy.sparse.linalg import eigsh',\n",
       "       'from scipy.stats import binned_statistic_2d',\n",
       "       'from signnet_pos_encoder import SignNetNodeEncoder',\n",
       "       'from sklearn.linear_model import LinearRegression',\n",
       "       'from sklearn.linear_model import Ridge',\n",
       "       'from sklearn.metrics import mean_absolute_error',\n",
       "       'from sklearn.metrics import mean_absolute_percentage_error',\n",
       "       'from sklearn.metrics import mean_squared_error',\n",
       "       'from sklearn.metrics import r2_score',\n",
       "       'from sklearn.model_selection import KFold',\n",
       "       'from sklearn.svm import SVR', 'from torch import Tensor',\n",
       "       'from torch import nn', 'from torch import optim',\n",
       "       'from torch.nn import Parameter',\n",
       "       'from torch.nn import Sequential',\n",
       "       'from torch.nn import functional',\n",
       "       'from torch.nn.parameter import Parameter',\n",
       "       'from torch.optim import Adam,',\n",
       "       'from torch.utils.data import DataLoader',\n",
       "       'from torch_geometric.data import Data',\n",
       "       'from torch_geometric.data import Dataset',\n",
       "       'from torch_geometric.graphgym.config import cfg',\n",
       "       'from torch_geometric.graphgym.register import register_config',\n",
       "       'from torch_geometric.graphgym.register import register_node_encoder',\n",
       "       'from torch_geometric.loader import DataLoader',\n",
       "       'from torch_geometric.nn import GATv2Conv',\n",
       "       'from torch_geometric.nn import GINConv',\n",
       "       'from torch_geometric.nn import MessagePassing',\n",
       "       'from torch_geometric.nn import global_add_pool,',\n",
       "       'from torch_geometric.nn import global_mean_pool,',\n",
       "       'from torch_geometric.nn.conv import GATv2Conv,',\n",
       "       'from torch_geometric.nn.conv import MessagePassing',\n",
       "       'from torch_geometric.nn.conv.pna_conv import PNAConv',\n",
       "       'from torch_geometric.nn.dense.linear import Linear',\n",
       "       'from torch_geometric.nn.inits import glorot,',\n",
       "       'from torch_geometric.nn.inits import uniform',\n",
       "       'from torch_geometric.utils import (get_laplacian,',\n",
       "       'from torch_geometric.utils import degree',\n",
       "       'from torch_geometric.utils import scatter,',\n",
       "       'from torch_geometric.utils import to_undirected,',\n",
       "       'from torch_geometric.utils.num_nodes import maybe_num_nodes',\n",
       "       'from torch_scatter import scatter',\n",
       "       'from torch_scatter import scatter_add',\n",
       "       'from torch_scatter import scatter_mean',\n",
       "       'from torch_sparse import SparseTensor,', 'from tqdm import tqdm',\n",
       "       'from typing import Literal', 'from typing import Optional',\n",
       "       'from typing import Tuple,', 'from utils import *',\n",
       "       'from yacs.config import CfgNode', 'import argparse', 'import dgl',\n",
       "       'import dgl.function', 'import gudhi', 'import gzip',\n",
       "       'import json', 'import json,', 'import math', 'import math,os',\n",
       "       'import matplotlib.pyplot', 'import networkx', 'import numpy',\n",
       "       'import os', 'import pickle', 'import random', 'import scipy',\n",
       "       'import sklearn.gaussian_process', 'import sys', 'import time',\n",
       "       'import torch', 'import torch.nn', 'import torch.nn.functional',\n",
       "       'import torch_geometric.graphgym.register',\n",
       "       'import torch_geometric.nn', 'import tqdm'], dtype='<U67')"
      ]
     },
     "execution_count": 10,
     "metadata": {},
     "output_type": "execute_result"
    }
   ],
   "source": [
    "package_set"
   ]
  },
  {
   "cell_type": "code",
   "execution_count": null,
   "id": "5ab98328-fc62-4353-af73-a202986b504a",
   "metadata": {},
   "outputs": [],
   "source": []
  }
 ],
 "metadata": {
  "kernelspec": {
   "display_name": "Python 3 (ipykernel)",
   "language": "python",
   "name": "python3"
  },
  "language_info": {
   "codemirror_mode": {
    "name": "ipython",
    "version": 3
   },
   "file_extension": ".py",
   "mimetype": "text/x-python",
   "name": "python",
   "nbconvert_exporter": "python",
   "pygments_lexer": "ipython3",
   "version": "3.8.8"
  }
 },
 "nbformat": 4,
 "nbformat_minor": 5
}
